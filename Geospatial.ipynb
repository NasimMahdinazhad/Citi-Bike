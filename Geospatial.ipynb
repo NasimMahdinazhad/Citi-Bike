{
 "cells": [
  {
   "cell_type": "code",
   "execution_count": 3,
   "id": "d7cb7718-4daa-4167-9ebd-5eb5d4353b09",
   "metadata": {},
   "outputs": [],
   "source": [
    "import pandas as pd\n",
    "import os\n",
    "from keplergl import KeplerGl\n",
    "from pyproj import CRS\n",
    "import numpy as np\n",
    "from matplotlib import pyplot as plt"
   ]
  },
  {
   "cell_type": "code",
   "execution_count": 4,
   "id": "13be2668-e1fa-4fb2-bd35-8bd88f6b453e",
   "metadata": {},
   "outputs": [],
   "source": [
    "# Load the dataset\n",
    "\n",
    "df = pd.read_pickle(\"merged_bike_data.pkl\")"
   ]
  },
  {
   "cell_type": "code",
   "execution_count": 3,
   "id": "9293c97a-2d6b-47aa-9330-cd5a3a68aa86",
   "metadata": {},
   "outputs": [
    {
     "data": {
      "text/plain": [
       "Index(['ride_id', 'rideable_type', 'started_at', 'ended_at',\n",
       "       'start_station_name', 'start_station_id', 'end_station_name',\n",
       "       'end_station_id', 'start_lat', 'start_lng', 'end_lat', 'end_lng',\n",
       "       'member_casual', 'date', 'avgTemp'],\n",
       "      dtype='object')"
      ]
     },
     "execution_count": 3,
     "metadata": {},
     "output_type": "execute_result"
    }
   ],
   "source": [
    "df.columns"
   ]
  },
  {
   "cell_type": "code",
   "execution_count": 5,
   "id": "5386f323-f47c-464a-a8df-6876b2830f39",
   "metadata": {},
   "outputs": [],
   "source": [
    "# Create a value column and group by start and end station\n",
    "\n",
    "df['value'] = 1  \n",
    "df_group = df.groupby(['start_station_name', 'end_station_name']).agg(\n",
    "    value=('value', 'count'),\n",
    "    start_lat=('start_lat', 'first'),\n",
    "    start_lon=('start_lng', 'first'),\n",
    "    end_lat=('end_lat', 'first'),\n",
    "    end_lon=('end_lng', 'first')\n",
    ").reset_index()"
   ]
  },
  {
   "cell_type": "code",
   "execution_count": 20,
   "id": "bc8994ae-f073-4fb4-b9c1-5dd1393a3b89",
   "metadata": {},
   "outputs": [
    {
     "data": {
      "text/html": [
       "<div>\n",
       "<style scoped>\n",
       "    .dataframe tbody tr th:only-of-type {\n",
       "        vertical-align: middle;\n",
       "    }\n",
       "\n",
       "    .dataframe tbody tr th {\n",
       "        vertical-align: top;\n",
       "    }\n",
       "\n",
       "    .dataframe thead th {\n",
       "        text-align: right;\n",
       "    }\n",
       "</style>\n",
       "<table border=\"1\" class=\"dataframe\">\n",
       "  <thead>\n",
       "    <tr style=\"text-align: right;\">\n",
       "      <th></th>\n",
       "      <th>start_station_name</th>\n",
       "      <th>end_station_name</th>\n",
       "      <th>value</th>\n",
       "      <th>start_lat</th>\n",
       "      <th>start_lon</th>\n",
       "      <th>end_lat</th>\n",
       "      <th>end_lon</th>\n",
       "    </tr>\n",
       "  </thead>\n",
       "  <tbody>\n",
       "    <tr>\n",
       "      <th>0</th>\n",
       "      <td>1 Ave &amp; E 110 St</td>\n",
       "      <td>1 Ave &amp; E 110 St</td>\n",
       "      <td>791</td>\n",
       "      <td>40.792327</td>\n",
       "      <td>-73.9383</td>\n",
       "      <td>40.792327</td>\n",
       "      <td>-73.938300</td>\n",
       "    </tr>\n",
       "    <tr>\n",
       "      <th>1</th>\n",
       "      <td>1 Ave &amp; E 110 St</td>\n",
       "      <td>1 Ave &amp; E 18 St</td>\n",
       "      <td>2</td>\n",
       "      <td>40.792327</td>\n",
       "      <td>-73.9383</td>\n",
       "      <td>40.733812</td>\n",
       "      <td>-73.980544</td>\n",
       "    </tr>\n",
       "    <tr>\n",
       "      <th>2</th>\n",
       "      <td>1 Ave &amp; E 110 St</td>\n",
       "      <td>1 Ave &amp; E 30 St</td>\n",
       "      <td>4</td>\n",
       "      <td>40.792327</td>\n",
       "      <td>-73.9383</td>\n",
       "      <td>40.741444</td>\n",
       "      <td>-73.975361</td>\n",
       "    </tr>\n",
       "    <tr>\n",
       "      <th>3</th>\n",
       "      <td>1 Ave &amp; E 110 St</td>\n",
       "      <td>1 Ave &amp; E 39 St</td>\n",
       "      <td>1</td>\n",
       "      <td>40.792327</td>\n",
       "      <td>-73.9383</td>\n",
       "      <td>40.747140</td>\n",
       "      <td>-73.971130</td>\n",
       "    </tr>\n",
       "    <tr>\n",
       "      <th>4</th>\n",
       "      <td>1 Ave &amp; E 110 St</td>\n",
       "      <td>1 Ave &amp; E 44 St</td>\n",
       "      <td>12</td>\n",
       "      <td>40.792327</td>\n",
       "      <td>-73.9383</td>\n",
       "      <td>40.750020</td>\n",
       "      <td>-73.969053</td>\n",
       "    </tr>\n",
       "  </tbody>\n",
       "</table>\n",
       "</div>"
      ],
      "text/plain": [
       "  start_station_name  end_station_name  value  start_lat  start_lon  \\\n",
       "0   1 Ave & E 110 St  1 Ave & E 110 St    791  40.792327   -73.9383   \n",
       "1   1 Ave & E 110 St   1 Ave & E 18 St      2  40.792327   -73.9383   \n",
       "2   1 Ave & E 110 St   1 Ave & E 30 St      4  40.792327   -73.9383   \n",
       "3   1 Ave & E 110 St   1 Ave & E 39 St      1  40.792327   -73.9383   \n",
       "4   1 Ave & E 110 St   1 Ave & E 44 St     12  40.792327   -73.9383   \n",
       "\n",
       "     end_lat    end_lon  \n",
       "0  40.792327 -73.938300  \n",
       "1  40.733812 -73.980544  \n",
       "2  40.741444 -73.975361  \n",
       "3  40.747140 -73.971130  \n",
       "4  40.750020 -73.969053  "
      ]
     },
     "execution_count": 20,
     "metadata": {},
     "output_type": "execute_result"
    }
   ],
   "source": [
    "df_group.head()"
   ]
  },
  {
   "cell_type": "code",
   "execution_count": 6,
   "id": "afb9e66c-fd60-455d-858e-e1856ab235ca",
   "metadata": {},
   "outputs": [],
   "source": [
    "df_group.rename(columns = {'value': 'trips'}, inplace = True)"
   ]
  },
  {
   "cell_type": "code",
   "execution_count": 22,
   "id": "f4ac5aa4-27f2-4c0a-98e8-2a2357d8ca50",
   "metadata": {},
   "outputs": [
    {
     "name": "stdout",
     "output_type": "stream",
     "text": [
      "29768282\n",
      "(29838166, 16)\n"
     ]
    }
   ],
   "source": [
    "print(df_group['trips'].sum())\n",
    "print(df.shape)"
   ]
  },
  {
   "cell_type": "code",
   "execution_count": 23,
   "id": "faca8975-e362-4fd5-a746-ca918e3a9a6c",
   "metadata": {},
   "outputs": [
    {
     "data": {
      "text/plain": [
       "count    1.013397e+06\n",
       "mean     2.937475e+01\n",
       "std      9.925180e+01\n",
       "min      1.000000e+00\n",
       "25%      1.000000e+00\n",
       "50%      4.000000e+00\n",
       "75%      1.700000e+01\n",
       "max      1.204100e+04\n",
       "Name: trips, dtype: float64"
      ]
     },
     "execution_count": 23,
     "metadata": {},
     "output_type": "execute_result"
    }
   ],
   "source": [
    "df_group['trips'].describe()"
   ]
  },
  {
   "cell_type": "code",
   "execution_count": 30,
   "id": "b420b40f-03c2-40cb-82ae-eff1baff5e2a",
   "metadata": {},
   "outputs": [],
   "source": [
    "df_group.to_csv('df_final_locations_for_map.csv')"
   ]
  },
  {
   "cell_type": "code",
   "execution_count": 7,
   "id": "e570ede1-1219-43d6-b611-353b89cd95c9",
   "metadata": {},
   "outputs": [],
   "source": [
    "df_final = pd.read_csv(\"df_final_locations_for_map.csv\")"
   ]
  },
  {
   "cell_type": "code",
   "execution_count": 11,
   "id": "f7a74baa-c636-4c71-a2da-1a88b327cca1",
   "metadata": {},
   "outputs": [
    {
     "name": "stdout",
     "output_type": "stream",
     "text": [
      "User Guide: https://docs.kepler.gl/docs/keplergl-jupyter\n"
     ]
    }
   ],
   "source": [
    "# Create the KeplerGl map\n",
    "\n",
    "m = KeplerGl(height=700, data={\"data_1\": df_final})\n"
   ]
  },
  {
   "cell_type": "code",
   "execution_count": 12,
   "id": "b3f2b0ed-aec0-47f8-bf53-0bef525e2783",
   "metadata": {},
   "outputs": [
    {
     "data": {
      "application/vnd.jupyter.widget-view+json": {
       "model_id": "4ed567dc42d44bdbb79fc43adcefe7cf",
       "version_major": 2,
       "version_minor": 0
      },
      "text/plain": [
       "KeplerGl(data={'data_1':          Unnamed: 0     start_station_name       end_station_name  trips  \\\n",
       "0        …"
      ]
     },
     "execution_count": 12,
     "metadata": {},
     "output_type": "execute_result"
    }
   ],
   "source": [
    "m"
   ]
  },
  {
   "cell_type": "code",
   "execution_count": 13,
   "id": "501d7d90-c87a-45de-b096-44766a4bac38",
   "metadata": {},
   "outputs": [],
   "source": [
    "import json\n",
    "\n",
    "# Get the current configuration\n",
    "config = m.config"
   ]
  },
  {
   "cell_type": "code",
   "execution_count": 15,
   "id": "c8350ea6-4940-4211-a7ad-4f944f66a92f",
   "metadata": {},
   "outputs": [],
   "source": [
    "# Save configuration to a JSON file\n",
    "with open(\"config.json\", \"w\") as outfile:\n",
    "    json.dump(config, outfile)"
   ]
  },
  {
   "cell_type": "code",
   "execution_count": 16,
   "id": "8e3a9046-0204-49e8-858e-85404646ddff",
   "metadata": {},
   "outputs": [
    {
     "name": "stdout",
     "output_type": "stream",
     "text": [
      "Map saved to Bike_Trips_NYC.html!\n"
     ]
    }
   ],
   "source": [
    "# Save interactive map as HTML\n",
    "m.save_to_html(file_name='Bike_Trips_NYC.html', read_only=False, config=config, center_map=True)"
   ]
  },
  {
   "cell_type": "markdown",
   "id": "6bedda86-ca5f-49a9-bddf-70cbeb578975",
   "metadata": {},
   "source": [
    "On the Kepler.gl map, the bike-sharing trips are visualized using an Arc Layer, where start and end stations are represented in different colors, and the stations are connected by curved lines that show the flow of trips.\n",
    "\n",
    "To highlight the most significant travel patterns, a filter is applied on the trips field, represented as a slider. By adjusting this slider to the right, trips with lower counts are filtered out, which reduces the visual clutter and reveals the busiest connections between stations."
   ]
  },
  {
   "cell_type": "markdown",
   "id": "9aae39ed-1152-4b81-966a-5c894aa016e7",
   "metadata": {},
   "source": [
    "the stations located around Central Park and those situated in the western part of the city exhibit the busiest connections."
   ]
  },
  {
   "cell_type": "code",
   "execution_count": null,
   "id": "c394d20b-7b65-4319-a2cd-4c136b2e888f",
   "metadata": {},
   "outputs": [],
   "source": []
  }
 ],
 "metadata": {
  "kernelspec": {
   "display_name": "Python [conda env:venv-bike]",
   "language": "python",
   "name": "conda-env-venv-bike-py"
  },
  "language_info": {
   "codemirror_mode": {
    "name": "ipython",
    "version": 3
   },
   "file_extension": ".py",
   "mimetype": "text/x-python",
   "name": "python",
   "nbconvert_exporter": "python",
   "pygments_lexer": "ipython3",
   "version": "3.11.13"
  }
 },
 "nbformat": 4,
 "nbformat_minor": 5
}
