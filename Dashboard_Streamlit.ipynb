{
 "cells": [
  {
   "cell_type": "code",
   "execution_count": 1,
   "id": "1476ac93-66e9-4a27-b178-ef4193a8c5a8",
   "metadata": {},
   "outputs": [],
   "source": [
    "import streamlit as st\n",
    "import pandas as pd\n",
    "import numpy as np\n",
    "import plotly.express as px\n",
    "from plotly.subplots import make_subplots\n",
    "import plotly.graph_objects as go\n",
    "import matplotlib.pyplot as plt\n",
    "from datetime import datetime as dt\n",
    "from streamlit_keplergl import keplergl_static"
   ]
  },
  {
   "cell_type": "code",
   "execution_count": 3,
   "id": "bb97f2c8-fe4d-4561-91bd-e5cde86daa26",
   "metadata": {},
   "outputs": [],
   "source": [
    "# Load the dataset\n",
    "\n",
    "df = pd.read_pickle(\"cleaned_dataset.pkl\")"
   ]
  },
  {
   "cell_type": "code",
   "execution_count": 4,
   "id": "63572197-9119-4df2-a49a-c4369e5f9b59",
   "metadata": {},
   "outputs": [
    {
     "data": {
      "text/plain": [
       "ride_id                       object\n",
       "rideable_type                 object\n",
       "started_at                    object\n",
       "ended_at                      object\n",
       "start_station_name            object\n",
       "start_station_id              object\n",
       "end_station_name              object\n",
       "end_station_id                object\n",
       "start_lat                    float64\n",
       "start_lng                    float64\n",
       "end_lat                      float64\n",
       "end_lng                      float64\n",
       "member_casual                 object\n",
       "date                  datetime64[ns]\n",
       "avgTemp                      float64\n",
       "bike_rides_daily               int64\n",
       "dtype: object"
      ]
     },
     "execution_count": 4,
     "metadata": {},
     "output_type": "execute_result"
    }
   ],
   "source": [
    "df.dtypes"
   ]
  },
  {
   "cell_type": "code",
   "execution_count": 5,
   "id": "8ac7a153-323a-47c7-a5ea-a56993acf9e1",
   "metadata": {},
   "outputs": [],
   "source": [
    "# Create a month column \n",
    "\n",
    "df['date'] = pd.to_datetime(df['date'], format = '%Y-%m-%d')\n",
    "df['month'] = df['date'].dt.month\n",
    "df['month'] = df['month'].astype('int')"
   ]
  },
  {
   "cell_type": "code",
   "execution_count": 6,
   "id": "36a72f2d-05e0-403b-a67b-86f7f3bf1958",
   "metadata": {},
   "outputs": [],
   "source": [
    "# Create the season column\n",
    "\n",
    "df['season'] = [\n",
    "\"winter\" if (month == 12 or 1 <= month <= 4)\n",
    "    else \"spring\" if (4 < month <= 5)\n",
    "    else \"summer\" if (6 <= month <= 9)\n",
    "    else \"fall\"\n",
    "for month in df['month']\n",
    "    ]"
   ]
  },
  {
   "cell_type": "code",
   "execution_count": 6,
   "id": "6dfe7a11-2476-4fa4-addd-741d199a5c24",
   "metadata": {},
   "outputs": [
    {
     "data": {
      "text/plain": [
       "Index(['ride_id', 'rideable_type', 'started_at', 'ended_at',\n",
       "       'start_station_name', 'start_station_id', 'end_station_name',\n",
       "       'end_station_id', 'start_lat', 'start_lng', 'end_lat', 'end_lng',\n",
       "       'member_casual', 'date', 'avgTemp', 'bike_rides_daily', 'month',\n",
       "       'season'],\n",
       "      dtype='object')"
      ]
     },
     "execution_count": 6,
     "metadata": {},
     "output_type": "execute_result"
    }
   ],
   "source": [
    "df.columns"
   ]
  },
  {
   "cell_type": "markdown",
   "id": "b8f4e39e-1ca4-48ce-af28-175449a7b43c",
   "metadata": {},
   "source": [
    "### Create the plotly charts"
   ]
  },
  {
   "cell_type": "code",
   "execution_count": 7,
   "id": "f85cf4de-63da-4b86-9cb8-86f275261725",
   "metadata": {},
   "outputs": [],
   "source": [
    "## Groupby\n",
    "\n",
    "df['value'] = 1 \n",
    "df_groupby_bar = df.groupby('start_station_name', as_index=False).agg({'value': 'sum'})\n",
    "top20 = df_groupby_bar.nlargest(20, 'value')"
   ]
  },
  {
   "cell_type": "code",
   "execution_count": null,
   "id": "43a1da03-9a99-494c-9260-6b4612ad81cf",
   "metadata": {},
   "outputs": [],
   "source": [
    "fig = go.Figure(go.Bar(x = top20['start_station_name'], y = top20['value']))\n",
    "fig.show()"
   ]
  },
  {
   "cell_type": "code",
   "execution_count": null,
   "id": "6832b75d-13f9-428f-bf35-fd1998c7d717",
   "metadata": {},
   "outputs": [],
   "source": [
    "fig = go.Figure(go.Bar(x = top20['start_station_name'], y = top20['value'], marker={'color': top20['value'],'colorscale': 'Blues'}))\n",
    "fig.show()"
   ]
  },
  {
   "cell_type": "code",
   "execution_count": null,
   "id": "0d9d0144-9fca-451d-9b0c-74efe8cc2211",
   "metadata": {},
   "outputs": [],
   "source": [
    "## Bar chart\n",
    "\n",
    "fig.update_layout(\n",
    "    title = 'Top 20 most popular bike stations in New York',\n",
    "    xaxis_title = 'Start stations',\n",
    "    yaxis_title ='Sum of trips',\n",
    "    width = 900, height = 600\n",
    ")"
   ]
  },
  {
   "cell_type": "markdown",
   "id": "05242edc-8cb3-4a12-adc2-62f4c8c6db90",
   "metadata": {},
   "source": [
    "#### The next chart's output has been deleted because it inflates the notebook's size a lot"
   ]
  },
  {
   "cell_type": "code",
   "execution_count": null,
   "id": "5abd6b9c-2249-4033-874d-17b06a8b72fa",
   "metadata": {},
   "outputs": [],
   "source": [
    "# Line chart\n",
    "\n",
    "fig = make_subplots(specs = [[{\"secondary_y\": True}]])\n",
    "\n",
    " fig.add_trace(\n",
    " go.Scatter(x = df['date'], y = df['bike_rides_daily'], name = 'Daily bike rides', \n",
    " marker={'color': df['bike_rides_daily'],'color': 'blue'}),\n",
    " secondary_y = False)\n",
    "\n",
    " fig.add_trace(\n",
    " go.Scatter(x=df['date'], y = df['avgTemp'], name = 'Daily temperature', \n",
    " marker={'color': df['avgTemp'],'color': 'red'}),\n",
    " secondary_y=True)\n"
   ]
  },
  {
   "cell_type": "code",
   "execution_count": 8,
   "id": "9aef8cb4-4e0b-42e7-bef9-e5cb0d1cbb78",
   "metadata": {},
   "outputs": [
    {
     "data": {
      "text/plain": [
       "214"
      ]
     },
     "execution_count": 8,
     "metadata": {},
     "output_type": "execute_result"
    }
   ],
   "source": [
    "import gc # this is a garbage collector\n",
    "gc.collect()"
   ]
  },
  {
   "cell_type": "code",
   "execution_count": 9,
   "id": "d88ce363-caf0-44bc-bbe7-561c2efd87a1",
   "metadata": {},
   "outputs": [],
   "source": [
    "# Save the top 20 stations as a csv file \n",
    "\n",
    "top20.to_csv('top20.csv')"
   ]
  },
  {
   "cell_type": "code",
   "execution_count": 21,
   "id": "68c793bc-379d-44bd-bb18-761c3d64b18d",
   "metadata": {},
   "outputs": [],
   "source": [
    "top20 = pd.read_csv('top20.csv', index_col = 0)"
   ]
  },
  {
   "cell_type": "code",
   "execution_count": 22,
   "id": "dcd6e73e-b249-4076-9573-1d006d98fa48",
   "metadata": {},
   "outputs": [
    {
     "data": {
      "text/html": [
       "<div>\n",
       "<style scoped>\n",
       "    .dataframe tbody tr th:only-of-type {\n",
       "        vertical-align: middle;\n",
       "    }\n",
       "\n",
       "    .dataframe tbody tr th {\n",
       "        vertical-align: top;\n",
       "    }\n",
       "\n",
       "    .dataframe thead th {\n",
       "        text-align: right;\n",
       "    }\n",
       "</style>\n",
       "<table border=\"1\" class=\"dataframe\">\n",
       "  <thead>\n",
       "    <tr style=\"text-align: right;\">\n",
       "      <th></th>\n",
       "      <th>start_station_name</th>\n",
       "      <th>value</th>\n",
       "    </tr>\n",
       "  </thead>\n",
       "  <tbody>\n",
       "    <tr>\n",
       "      <th>1587</th>\n",
       "      <td>W 21 St &amp; 6 Ave</td>\n",
       "      <td>129016</td>\n",
       "    </tr>\n",
       "    <tr>\n",
       "      <th>1718</th>\n",
       "      <td>West St &amp; Chambers St</td>\n",
       "      <td>123289</td>\n",
       "    </tr>\n",
       "    <tr>\n",
       "      <th>495</th>\n",
       "      <td>Broadway &amp; W 58 St</td>\n",
       "      <td>114293</td>\n",
       "    </tr>\n",
       "    <tr>\n",
       "      <th>286</th>\n",
       "      <td>6 Ave &amp; W 33 St</td>\n",
       "      <td>106440</td>\n",
       "    </tr>\n",
       "    <tr>\n",
       "      <th>8</th>\n",
       "      <td>1 Ave &amp; E 68 St</td>\n",
       "      <td>104856</td>\n",
       "    </tr>\n",
       "  </tbody>\n",
       "</table>\n",
       "</div>"
      ],
      "text/plain": [
       "         start_station_name   value\n",
       "1587        W 21 St & 6 Ave  129016\n",
       "1718  West St & Chambers St  123289\n",
       "495      Broadway & W 58 St  114293\n",
       "286         6 Ave & W 33 St  106440\n",
       "8           1 Ave & E 68 St  104856"
      ]
     },
     "execution_count": 22,
     "metadata": {},
     "output_type": "execute_result"
    }
   ],
   "source": [
    "top20.head()"
   ]
  },
  {
   "cell_type": "code",
   "execution_count": 10,
   "id": "a17d7ce5-802b-43cb-914a-301c12b56808",
   "metadata": {},
   "outputs": [
    {
     "data": {
      "text/plain": [
       "Index(['ride_id', 'rideable_type', 'started_at', 'ended_at',\n",
       "       'start_station_name', 'start_station_id', 'end_station_name',\n",
       "       'end_station_id', 'start_lat', 'start_lng', 'end_lat', 'end_lng',\n",
       "       'member_casual', 'date', 'avgTemp', 'bike_rides_daily', 'month',\n",
       "       'season', 'value'],\n",
       "      dtype='object')"
      ]
     },
     "execution_count": 10,
     "metadata": {},
     "output_type": "execute_result"
    }
   ],
   "source": [
    "df.columns"
   ]
  },
  {
   "cell_type": "code",
   "execution_count": null,
   "id": "e19d78b5-aa2a-4e8d-9c17-68cde39387b7",
   "metadata": {},
   "outputs": [],
   "source": []
  },
  {
   "cell_type": "markdown",
   "id": "9383caf0-fcd2-494c-a421-51115dc57ff1",
   "metadata": {},
   "source": [
    "### Reduce the row and column count"
   ]
  },
  {
   "cell_type": "code",
   "execution_count": 10,
   "id": "33967068-ff66-430a-8f52-f9421526418f",
   "metadata": {},
   "outputs": [],
   "source": [
    "df_1 = df.drop(columns = {'ride_id', 'rideable_type', 'started_at', 'ended_at',\n",
    "        'start_station_id', 'end_station_id', 'start_lat', 'start_lng', 'end_lat', 'end_lng',\n",
    "       'member_casual', 'month'}) "
   ]
  },
  {
   "cell_type": "code",
   "execution_count": 12,
   "id": "2f482fce-7217-433c-bb43-0d2c8ba19c8a",
   "metadata": {},
   "outputs": [
    {
     "data": {
      "text/plain": [
       "Index(['start_station_name', 'end_station_name', 'date', 'avgTemp',\n",
       "       'bike_rides_daily', 'season', 'value'],\n",
       "      dtype='object')"
      ]
     },
     "execution_count": 12,
     "metadata": {},
     "output_type": "execute_result"
    }
   ],
   "source": [
    "df_1.columns"
   ]
  },
  {
   "cell_type": "markdown",
   "id": "43cf9ba4-3091-4c3e-978b-df73e4a3ea0c",
   "metadata": {},
   "source": [
    "##### The dataset contains over a million rows, and plotting it directly as a line chart caused the visualization to become unresponsive. To fix this, I performed random sampling to reduce the dataset size before plotting."
   ]
  },
  {
   "cell_type": "code",
   "execution_count": 20,
   "id": "467261cc-310f-4d61-9dd7-2b9e5266b63a",
   "metadata": {},
   "outputs": [],
   "source": [
    "# Create a random sample\n",
    "\n",
    "np.random.seed(32)\n",
    "red = np.random.rand(len(df_1)) <= 0.95"
   ]
  },
  {
   "cell_type": "code",
   "execution_count": 21,
   "id": "2160947f-612b-4955-a9f8-7b4e3c44f542",
   "metadata": {},
   "outputs": [],
   "source": [
    "small = df_1[~red]"
   ]
  },
  {
   "cell_type": "code",
   "execution_count": 23,
   "id": "4451b191-959e-483c-a83a-b6b8800f8052",
   "metadata": {},
   "outputs": [
    {
     "data": {
      "text/plain": [
       "(1490652, 7)"
      ]
     },
     "execution_count": 23,
     "metadata": {},
     "output_type": "execute_result"
    }
   ],
   "source": [
    "small.shape"
   ]
  },
  {
   "cell_type": "code",
   "execution_count": null,
   "id": "9b7491be-928f-4b98-ba62-98a524a0e535",
   "metadata": {},
   "outputs": [],
   "source": [
    "df_1.to_csv('reduced_data_to_plot.csv')"
   ]
  },
  {
   "cell_type": "code",
   "execution_count": 24,
   "id": "61385bb3-4b7d-4c54-a09b-64fd2823ede2",
   "metadata": {},
   "outputs": [],
   "source": [
    "small.to_csv('reduced_data_to_plot_7.csv',index = False)"
   ]
  },
  {
   "cell_type": "code",
   "execution_count": 16,
   "id": "eadff1af-b9a8-4e4d-8e1a-ddb48c2b1261",
   "metadata": {},
   "outputs": [],
   "source": [
    "df1 = pd.read_csv(\"reduced_data_to_plot_7.csv\", index_col = 0)"
   ]
  },
  {
   "cell_type": "code",
   "execution_count": 23,
   "id": "5f86b8dc-f929-469e-8132-5cc472329e6f",
   "metadata": {},
   "outputs": [
    {
     "data": {
      "text/html": [
       "<div>\n",
       "<style scoped>\n",
       "    .dataframe tbody tr th:only-of-type {\n",
       "        vertical-align: middle;\n",
       "    }\n",
       "\n",
       "    .dataframe tbody tr th {\n",
       "        vertical-align: top;\n",
       "    }\n",
       "\n",
       "    .dataframe thead th {\n",
       "        text-align: right;\n",
       "    }\n",
       "</style>\n",
       "<table border=\"1\" class=\"dataframe\">\n",
       "  <thead>\n",
       "    <tr style=\"text-align: right;\">\n",
       "      <th></th>\n",
       "      <th>end_station_name</th>\n",
       "      <th>date</th>\n",
       "      <th>avgTemp</th>\n",
       "      <th>bike_rides_daily</th>\n",
       "      <th>season</th>\n",
       "      <th>value</th>\n",
       "    </tr>\n",
       "    <tr>\n",
       "      <th>start_station_name</th>\n",
       "      <th></th>\n",
       "      <th></th>\n",
       "      <th></th>\n",
       "      <th></th>\n",
       "      <th></th>\n",
       "      <th></th>\n",
       "    </tr>\n",
       "  </thead>\n",
       "  <tbody>\n",
       "    <tr>\n",
       "      <th>Cleveland Pl &amp; Spring St</th>\n",
       "      <td>Mott St &amp; Prince St</td>\n",
       "      <td>2022-01-01</td>\n",
       "      <td>11.6</td>\n",
       "      <td>20428</td>\n",
       "      <td>winter</td>\n",
       "      <td>1</td>\n",
       "    </tr>\n",
       "    <tr>\n",
       "      <th>28 Ave &amp; 35 St</th>\n",
       "      <td>Vernon Blvd &amp; 30 Rd</td>\n",
       "      <td>2022-01-01</td>\n",
       "      <td>11.6</td>\n",
       "      <td>20428</td>\n",
       "      <td>winter</td>\n",
       "      <td>1</td>\n",
       "    </tr>\n",
       "    <tr>\n",
       "      <th>Bergen St &amp; Smith St</th>\n",
       "      <td>Atlantic Ave &amp; Furman St</td>\n",
       "      <td>2022-01-01</td>\n",
       "      <td>11.6</td>\n",
       "      <td>20428</td>\n",
       "      <td>winter</td>\n",
       "      <td>1</td>\n",
       "    </tr>\n",
       "    <tr>\n",
       "      <th>Schermerhorn St &amp; Bond St</th>\n",
       "      <td>Smith St &amp; 3 St</td>\n",
       "      <td>2022-01-01</td>\n",
       "      <td>11.6</td>\n",
       "      <td>20428</td>\n",
       "      <td>winter</td>\n",
       "      <td>1</td>\n",
       "    </tr>\n",
       "    <tr>\n",
       "      <th>Henry St &amp; Grand St</th>\n",
       "      <td>Fulton St &amp; William St</td>\n",
       "      <td>2022-01-01</td>\n",
       "      <td>11.6</td>\n",
       "      <td>20428</td>\n",
       "      <td>winter</td>\n",
       "      <td>1</td>\n",
       "    </tr>\n",
       "  </tbody>\n",
       "</table>\n",
       "</div>"
      ],
      "text/plain": [
       "                                   end_station_name        date  avgTemp  \\\n",
       "start_station_name                                                         \n",
       "Cleveland Pl & Spring St        Mott St & Prince St  2022-01-01     11.6   \n",
       "28 Ave & 35 St                  Vernon Blvd & 30 Rd  2022-01-01     11.6   \n",
       "Bergen St & Smith St       Atlantic Ave & Furman St  2022-01-01     11.6   \n",
       "Schermerhorn St & Bond St           Smith St & 3 St  2022-01-01     11.6   \n",
       "Henry St & Grand St          Fulton St & William St  2022-01-01     11.6   \n",
       "\n",
       "                           bike_rides_daily  season  value  \n",
       "start_station_name                                          \n",
       "Cleveland Pl & Spring St              20428  winter      1  \n",
       "28 Ave & 35 St                        20428  winter      1  \n",
       "Bergen St & Smith St                  20428  winter      1  \n",
       "Schermerhorn St & Bond St             20428  winter      1  \n",
       "Henry St & Grand St                   20428  winter      1  "
      ]
     },
     "execution_count": 23,
     "metadata": {},
     "output_type": "execute_result"
    }
   ],
   "source": [
    "df1.head()"
   ]
  },
  {
   "cell_type": "code",
   "execution_count": 18,
   "id": "0dd172b1-25eb-44c4-8b9a-d557e3cbf83c",
   "metadata": {},
   "outputs": [],
   "source": [
    "df_daily = df1.groupby('date').agg({\n",
    "    'bike_rides_daily': 'first',  # they are identical per date\n",
    "    'avgTemp': 'first'\n",
    "}).reset_index()"
   ]
  },
  {
   "cell_type": "code",
   "execution_count": 19,
   "id": "a605c3da-368c-48b4-a5b5-563bf0302699",
   "metadata": {},
   "outputs": [
    {
     "data": {
      "application/vnd.plotly.v1+json": {
       "config": {
        "plotlyServerURL": "https://plot.ly"
       },
       "data": [
        {
         "marker": {
          "color": "blue"
         },
         "name": "Daily bike rides",
         "type": "scatter",
         "x": [
          "2022-01-01",
          "2022-01-02",
          "2022-01-03",
          "2022-01-04",
          "2022-01-05",
          "2022-01-06",
          "2022-01-07",
          "2022-01-08",
          "2022-01-09",
          "2022-01-10",
          "2022-01-11",
          "2022-01-12",
          "2022-01-13",
          "2022-01-14",
          "2022-01-15",
          "2022-01-16",
          "2022-01-17",
          "2022-01-18",
          "2022-01-19",
          "2022-01-20",
          "2022-01-21",
          "2022-01-22",
          "2022-01-23",
          "2022-01-24",
          "2022-01-25",
          "2022-01-26",
          "2022-01-27",
          "2022-01-28",
          "2022-01-29",
          "2022-01-30",
          "2022-01-31",
          "2022-02-01",
          "2022-02-02",
          "2022-02-03",
          "2022-02-04",
          "2022-02-05",
          "2022-02-06",
          "2022-02-07",
          "2022-02-08",
          "2022-02-09",
          "2022-02-10",
          "2022-02-11",
          "2022-02-12",
          "2022-02-13",
          "2022-02-14",
          "2022-02-15",
          "2022-02-16",
          "2022-02-17",
          "2022-02-18",
          "2022-02-19",
          "2022-02-20",
          "2022-02-21",
          "2022-02-22",
          "2022-02-23",
          "2022-02-24",
          "2022-02-25",
          "2022-02-26",
          "2022-02-27",
          "2022-02-28",
          "2022-03-01",
          "2022-03-02",
          "2022-03-03",
          "2022-03-04",
          "2022-03-05",
          "2022-03-06",
          "2022-03-07",
          "2022-03-08",
          "2022-03-09",
          "2022-03-10",
          "2022-03-11",
          "2022-03-12",
          "2022-03-13",
          "2022-03-14",
          "2022-03-15",
          "2022-03-16",
          "2022-03-17",
          "2022-03-18",
          "2022-03-19",
          "2022-03-20",
          "2022-03-21",
          "2022-03-22",
          "2022-03-23",
          "2022-03-24",
          "2022-03-25",
          "2022-03-26",
          "2022-03-27",
          "2022-03-28",
          "2022-03-29",
          "2022-03-30",
          "2022-03-31",
          "2022-04-01",
          "2022-04-02",
          "2022-04-03",
          "2022-04-04",
          "2022-04-05",
          "2022-04-06",
          "2022-04-07",
          "2022-04-08",
          "2022-04-09",
          "2022-04-10",
          "2022-04-11",
          "2022-04-12",
          "2022-04-13",
          "2022-04-14",
          "2022-04-15",
          "2022-04-16",
          "2022-04-17",
          "2022-04-18",
          "2022-04-19",
          "2022-04-20",
          "2022-04-21",
          "2022-04-22",
          "2022-04-23",
          "2022-04-24",
          "2022-04-25",
          "2022-04-26",
          "2022-04-27",
          "2022-04-28",
          "2022-04-29",
          "2022-04-30",
          "2022-05-01",
          "2022-05-02",
          "2022-05-03",
          "2022-05-04",
          "2022-05-05",
          "2022-05-06",
          "2022-05-07",
          "2022-05-08",
          "2022-05-09",
          "2022-05-10",
          "2022-05-11",
          "2022-05-12",
          "2022-05-13",
          "2022-05-14",
          "2022-05-15",
          "2022-05-16",
          "2022-05-17",
          "2022-05-18",
          "2022-05-19",
          "2022-05-20",
          "2022-05-21",
          "2022-05-22",
          "2022-05-23",
          "2022-05-24",
          "2022-05-25",
          "2022-05-26",
          "2022-05-27",
          "2022-05-28",
          "2022-05-29",
          "2022-05-30",
          "2022-05-31",
          "2022-06-01",
          "2022-06-02",
          "2022-06-03",
          "2022-06-04",
          "2022-06-05",
          "2022-06-06",
          "2022-06-07",
          "2022-06-08",
          "2022-06-09",
          "2022-06-10",
          "2022-06-11",
          "2022-06-12",
          "2022-06-13",
          "2022-06-14",
          "2022-06-15",
          "2022-06-16",
          "2022-06-17",
          "2022-06-18",
          "2022-06-19",
          "2022-06-20",
          "2022-06-21",
          "2022-06-22",
          "2022-06-23",
          "2022-06-24",
          "2022-06-25",
          "2022-06-26",
          "2022-06-27",
          "2022-06-28",
          "2022-06-29",
          "2022-06-30",
          "2022-07-01",
          "2022-07-02",
          "2022-07-03",
          "2022-07-04",
          "2022-07-05",
          "2022-07-06",
          "2022-07-07",
          "2022-07-08",
          "2022-07-09",
          "2022-07-10",
          "2022-07-11",
          "2022-07-12",
          "2022-07-13",
          "2022-07-14",
          "2022-07-15",
          "2022-07-16",
          "2022-07-17",
          "2022-07-18",
          "2022-07-19",
          "2022-07-20",
          "2022-07-21",
          "2022-07-22",
          "2022-07-23",
          "2022-07-24",
          "2022-07-25",
          "2022-07-26",
          "2022-07-27",
          "2022-07-28",
          "2022-07-29",
          "2022-07-30",
          "2022-07-31",
          "2022-08-01",
          "2022-08-02",
          "2022-08-03",
          "2022-08-04",
          "2022-08-05",
          "2022-08-06",
          "2022-08-07",
          "2022-08-08",
          "2022-08-09",
          "2022-08-10",
          "2022-08-11",
          "2022-08-12",
          "2022-08-13",
          "2022-08-14",
          "2022-08-15",
          "2022-08-16",
          "2022-08-17",
          "2022-08-18",
          "2022-08-19",
          "2022-08-20",
          "2022-08-21",
          "2022-08-22",
          "2022-08-23",
          "2022-08-24",
          "2022-08-25",
          "2022-08-26",
          "2022-08-27",
          "2022-08-28",
          "2022-08-29",
          "2022-08-30",
          "2022-08-31",
          "2022-09-01",
          "2022-09-02",
          "2022-09-03",
          "2022-09-04",
          "2022-09-05",
          "2022-09-06",
          "2022-09-07",
          "2022-09-08",
          "2022-09-09",
          "2022-09-10",
          "2022-09-11",
          "2022-09-12",
          "2022-09-13",
          "2022-09-14",
          "2022-09-15",
          "2022-09-16",
          "2022-09-17",
          "2022-09-18",
          "2022-09-19",
          "2022-09-20",
          "2022-09-21",
          "2022-09-22",
          "2022-09-23",
          "2022-09-24",
          "2022-09-25",
          "2022-09-26",
          "2022-09-27",
          "2022-09-28",
          "2022-09-29",
          "2022-09-30",
          "2022-10-01",
          "2022-10-02",
          "2022-10-03",
          "2022-10-04",
          "2022-10-05",
          "2022-10-06",
          "2022-10-07",
          "2022-10-08",
          "2022-10-09",
          "2022-10-10",
          "2022-10-11",
          "2022-10-12",
          "2022-10-13",
          "2022-10-14",
          "2022-10-15",
          "2022-10-16",
          "2022-10-17",
          "2022-10-18",
          "2022-10-19",
          "2022-10-20",
          "2022-10-21",
          "2022-10-22",
          "2022-10-23",
          "2022-10-24",
          "2022-10-25",
          "2022-10-26",
          "2022-10-27",
          "2022-10-28",
          "2022-10-29",
          "2022-10-30",
          "2022-10-31",
          "2022-11-01",
          "2022-11-02",
          "2022-11-03",
          "2022-11-04",
          "2022-11-05",
          "2022-11-06",
          "2022-11-07",
          "2022-11-08",
          "2022-11-09",
          "2022-11-10",
          "2022-11-11",
          "2022-11-12",
          "2022-11-13",
          "2022-11-14",
          "2022-11-15",
          "2022-11-16",
          "2022-11-17",
          "2022-11-18",
          "2022-11-19",
          "2022-11-20",
          "2022-11-21",
          "2022-11-22",
          "2022-11-23",
          "2022-11-24",
          "2022-11-25",
          "2022-11-26",
          "2022-11-27",
          "2022-11-28",
          "2022-11-29",
          "2022-11-30",
          "2022-12-01",
          "2022-12-02",
          "2022-12-03",
          "2022-12-04",
          "2022-12-05",
          "2022-12-06",
          "2022-12-07",
          "2022-12-08",
          "2022-12-09",
          "2022-12-10",
          "2022-12-11",
          "2022-12-12",
          "2022-12-13",
          "2022-12-14",
          "2022-12-15",
          "2022-12-16",
          "2022-12-17",
          "2022-12-18",
          "2022-12-19",
          "2022-12-20",
          "2022-12-21",
          "2022-12-22",
          "2022-12-23",
          "2022-12-24",
          "2022-12-25",
          "2022-12-26",
          "2022-12-27",
          "2022-12-28",
          "2022-12-29",
          "2022-12-30",
          "2022-12-31"
         ],
         "xaxis": "x",
         "y": {
          "bdata": "zE8AAAGoAAClgQAA6o8AALaFAADzrgAA+UMAAIdfAADnUwAAp4cAAMhoAAB4ngAAjMUAAJKyAAA3WQAAwlEAAJxxAAC3pwAA+9IAAIiEAAA+gwAA4XwAAMeAAAAQogAABMYAABWkAAA2qwAAN4gAACALAAAOJQAATVcAAJpyAADbowAAyGcAAFVPAADGcwAA13AAAP13AAC1ygAAx9oAAPHxAABm/AAA3wsBAKBPAACWhQAAZp4AALPRAABoBwEAvrcAAMJ+AABLeQAAjswAAGuOAAAVAwEAta4AAMx2AADHoQAANacAAESyAADT2gAAJAYBAHDYAAAowgAAnsgAAAPVAAAqCQEA4vIAALhtAAAXAgEAxA4BAKxMAABxeAAA5vYAAGI0AQApPgEAVMMAAKVqAQAlMAEAif8AAPkdAQDjJQEAwe0AAOGyAAB5JAEAx/IAADmyAAD3lAAAKr0AAEbvAACxGwEAfwsBACYeAQAskQAAJg0BALUbAQA7vQAA+okAAINYAQABBwEAON8AAFsmAQCHbQEAzIEBAAtiAQA0hQEADEEBAF7TAAAD2gAA+eUAAC5NAQDQLgEA1nwBAHlxAQDORQEA6hsBAMMkAQAOQgEAwzIBADFUAQChjAEAwXEBAAjVAACUaQEA6jYBABOvAQBiiQAATVAAABn1AAArbwEAmJgBAEeiAQAOsQEAdXYBAMQ3AQC9pwEAvzUBAKTKAQBcywEAX2ABAMVMAQAPwgEAtJQBALuMAQD1mQEABr4BAAKyAQBhXAEAr0IBAHOLAQB8iQEACIgBAAZYAQCYgQEALNgBABPyAQC+xAEAr64BANeUAQAC5AEAQcEBAIzeAQCTwwEAr2ABAKWzAQD44gEAq/MBAI+OAQBo0wEAIagBAKScAQARvgEASIQBANxwAQBJygEAYeUBAN3OAQBpngEAADcBAALaAQDD2gEA8cUBAAiUAQBvWwEAFF0BAORxAQByWwEA6rgBAEDAAQAIgAEAZeEBAIrDAQACswEAl7QBABXYAQCC1gEAO9IBACK0AQCcsQEA70UBAMjTAQAAzAEALaoBAKq0AQDQpAEAN4UBAF94AQBX3gEAmegBAAHLAQCzvwEAeOEBAB+4AQB3fwEAcdgBABLoAQBCzQEA4b4BALbgAQAdcwEA/JYBAGCqAQAs4wEAMb4BALTfAQCcBAIA8rQBAOa0AQCq3gEAuNYBAFncAQCw1wEAsPYBAGCvAQCUTwEAsc4BAAPgAQBe1QEA5agBAEvMAQAnpQEAbKYBADS7AQCN4QEAwdoBABTHAQDXpAEAj4QBAOxuAQAfnwAAELkBANMNAgBLCgIA+g0CALsIAQDTwQEARN4BAKAPAgAdBQIAYgICAMb9AQANyAEA8pEBANH7AQDtCQIASI8BAHi6AQD6uQEAGlMBAPObAQBqxwEAHeMBAEPaAQBSwgEAgukAALPJAACewQAAGssAAL0OAQD94wEA4+IBAIuJAQB3bgEAfXcBALu1AQCnzwEABCABAOnAAQAuzQEAK4sBANBaAQCNigEADIYBAN2XAQB4qAEA9LIBACwEAQAHAwEAe38BAC24AQDFwwEA8p4BADCaAQCodQEAyngBAF+VAQDEygEAKMgBAATQAQD13AEAgZMBANqiAQBWeQEADHUBAPapAQBX1gAAirwBAJAOAQAOIQEAAPwAAKAsAQA0MgEAMR8BAGXoAADarwAAMOkAABYhAQCNIAEAAJQAAHioAADh6AAAPocAAGwdAQCTJgEAi9UAANUdAQDHJAEAdbEAAI70AACjIAEAn80AADwhAQADXQEAGSwBANH3AADOfwAAOOoAAOP/AAA8BwEASqwAAP5uAADp5wAAdbwAADjUAAAP5QAALOcAANuYAAC7ZQAAFi0AAMwjAAAVSwAAFIEAAPurAADayQAAWvMAAOp6AAA=",
          "dtype": "i4"
         },
         "yaxis": "y"
        },
        {
         "marker": {
          "color": "red"
         },
         "name": "Daily temperature",
         "type": "scatter",
         "x": [
          "2022-01-01",
          "2022-01-02",
          "2022-01-03",
          "2022-01-04",
          "2022-01-05",
          "2022-01-06",
          "2022-01-07",
          "2022-01-08",
          "2022-01-09",
          "2022-01-10",
          "2022-01-11",
          "2022-01-12",
          "2022-01-13",
          "2022-01-14",
          "2022-01-15",
          "2022-01-16",
          "2022-01-17",
          "2022-01-18",
          "2022-01-19",
          "2022-01-20",
          "2022-01-21",
          "2022-01-22",
          "2022-01-23",
          "2022-01-24",
          "2022-01-25",
          "2022-01-26",
          "2022-01-27",
          "2022-01-28",
          "2022-01-29",
          "2022-01-30",
          "2022-01-31",
          "2022-02-01",
          "2022-02-02",
          "2022-02-03",
          "2022-02-04",
          "2022-02-05",
          "2022-02-06",
          "2022-02-07",
          "2022-02-08",
          "2022-02-09",
          "2022-02-10",
          "2022-02-11",
          "2022-02-12",
          "2022-02-13",
          "2022-02-14",
          "2022-02-15",
          "2022-02-16",
          "2022-02-17",
          "2022-02-18",
          "2022-02-19",
          "2022-02-20",
          "2022-02-21",
          "2022-02-22",
          "2022-02-23",
          "2022-02-24",
          "2022-02-25",
          "2022-02-26",
          "2022-02-27",
          "2022-02-28",
          "2022-03-01",
          "2022-03-02",
          "2022-03-03",
          "2022-03-04",
          "2022-03-05",
          "2022-03-06",
          "2022-03-07",
          "2022-03-08",
          "2022-03-09",
          "2022-03-10",
          "2022-03-11",
          "2022-03-12",
          "2022-03-13",
          "2022-03-14",
          "2022-03-15",
          "2022-03-16",
          "2022-03-17",
          "2022-03-18",
          "2022-03-19",
          "2022-03-20",
          "2022-03-21",
          "2022-03-22",
          "2022-03-23",
          "2022-03-24",
          "2022-03-25",
          "2022-03-26",
          "2022-03-27",
          "2022-03-28",
          "2022-03-29",
          "2022-03-30",
          "2022-03-31",
          "2022-04-01",
          "2022-04-02",
          "2022-04-03",
          "2022-04-04",
          "2022-04-05",
          "2022-04-06",
          "2022-04-07",
          "2022-04-08",
          "2022-04-09",
          "2022-04-10",
          "2022-04-11",
          "2022-04-12",
          "2022-04-13",
          "2022-04-14",
          "2022-04-15",
          "2022-04-16",
          "2022-04-17",
          "2022-04-18",
          "2022-04-19",
          "2022-04-20",
          "2022-04-21",
          "2022-04-22",
          "2022-04-23",
          "2022-04-24",
          "2022-04-25",
          "2022-04-26",
          "2022-04-27",
          "2022-04-28",
          "2022-04-29",
          "2022-04-30",
          "2022-05-01",
          "2022-05-02",
          "2022-05-03",
          "2022-05-04",
          "2022-05-05",
          "2022-05-06",
          "2022-05-07",
          "2022-05-08",
          "2022-05-09",
          "2022-05-10",
          "2022-05-11",
          "2022-05-12",
          "2022-05-13",
          "2022-05-14",
          "2022-05-15",
          "2022-05-16",
          "2022-05-17",
          "2022-05-18",
          "2022-05-19",
          "2022-05-20",
          "2022-05-21",
          "2022-05-22",
          "2022-05-23",
          "2022-05-24",
          "2022-05-25",
          "2022-05-26",
          "2022-05-27",
          "2022-05-28",
          "2022-05-29",
          "2022-05-30",
          "2022-05-31",
          "2022-06-01",
          "2022-06-02",
          "2022-06-03",
          "2022-06-04",
          "2022-06-05",
          "2022-06-06",
          "2022-06-07",
          "2022-06-08",
          "2022-06-09",
          "2022-06-10",
          "2022-06-11",
          "2022-06-12",
          "2022-06-13",
          "2022-06-14",
          "2022-06-15",
          "2022-06-16",
          "2022-06-17",
          "2022-06-18",
          "2022-06-19",
          "2022-06-20",
          "2022-06-21",
          "2022-06-22",
          "2022-06-23",
          "2022-06-24",
          "2022-06-25",
          "2022-06-26",
          "2022-06-27",
          "2022-06-28",
          "2022-06-29",
          "2022-06-30",
          "2022-07-01",
          "2022-07-02",
          "2022-07-03",
          "2022-07-04",
          "2022-07-05",
          "2022-07-06",
          "2022-07-07",
          "2022-07-08",
          "2022-07-09",
          "2022-07-10",
          "2022-07-11",
          "2022-07-12",
          "2022-07-13",
          "2022-07-14",
          "2022-07-15",
          "2022-07-16",
          "2022-07-17",
          "2022-07-18",
          "2022-07-19",
          "2022-07-20",
          "2022-07-21",
          "2022-07-22",
          "2022-07-23",
          "2022-07-24",
          "2022-07-25",
          "2022-07-26",
          "2022-07-27",
          "2022-07-28",
          "2022-07-29",
          "2022-07-30",
          "2022-07-31",
          "2022-08-01",
          "2022-08-02",
          "2022-08-03",
          "2022-08-04",
          "2022-08-05",
          "2022-08-06",
          "2022-08-07",
          "2022-08-08",
          "2022-08-09",
          "2022-08-10",
          "2022-08-11",
          "2022-08-12",
          "2022-08-13",
          "2022-08-14",
          "2022-08-15",
          "2022-08-16",
          "2022-08-17",
          "2022-08-18",
          "2022-08-19",
          "2022-08-20",
          "2022-08-21",
          "2022-08-22",
          "2022-08-23",
          "2022-08-24",
          "2022-08-25",
          "2022-08-26",
          "2022-08-27",
          "2022-08-28",
          "2022-08-29",
          "2022-08-30",
          "2022-08-31",
          "2022-09-01",
          "2022-09-02",
          "2022-09-03",
          "2022-09-04",
          "2022-09-05",
          "2022-09-06",
          "2022-09-07",
          "2022-09-08",
          "2022-09-09",
          "2022-09-10",
          "2022-09-11",
          "2022-09-12",
          "2022-09-13",
          "2022-09-14",
          "2022-09-15",
          "2022-09-16",
          "2022-09-17",
          "2022-09-18",
          "2022-09-19",
          "2022-09-20",
          "2022-09-21",
          "2022-09-22",
          "2022-09-23",
          "2022-09-24",
          "2022-09-25",
          "2022-09-26",
          "2022-09-27",
          "2022-09-28",
          "2022-09-29",
          "2022-09-30",
          "2022-10-01",
          "2022-10-02",
          "2022-10-03",
          "2022-10-04",
          "2022-10-05",
          "2022-10-06",
          "2022-10-07",
          "2022-10-08",
          "2022-10-09",
          "2022-10-10",
          "2022-10-11",
          "2022-10-12",
          "2022-10-13",
          "2022-10-14",
          "2022-10-15",
          "2022-10-16",
          "2022-10-17",
          "2022-10-18",
          "2022-10-19",
          "2022-10-20",
          "2022-10-21",
          "2022-10-22",
          "2022-10-23",
          "2022-10-24",
          "2022-10-25",
          "2022-10-26",
          "2022-10-27",
          "2022-10-28",
          "2022-10-29",
          "2022-10-30",
          "2022-10-31",
          "2022-11-01",
          "2022-11-02",
          "2022-11-03",
          "2022-11-04",
          "2022-11-05",
          "2022-11-06",
          "2022-11-07",
          "2022-11-08",
          "2022-11-09",
          "2022-11-10",
          "2022-11-11",
          "2022-11-12",
          "2022-11-13",
          "2022-11-14",
          "2022-11-15",
          "2022-11-16",
          "2022-11-17",
          "2022-11-18",
          "2022-11-19",
          "2022-11-20",
          "2022-11-21",
          "2022-11-22",
          "2022-11-23",
          "2022-11-24",
          "2022-11-25",
          "2022-11-26",
          "2022-11-27",
          "2022-11-28",
          "2022-11-29",
          "2022-11-30",
          "2022-12-01",
          "2022-12-02",
          "2022-12-03",
          "2022-12-04",
          "2022-12-05",
          "2022-12-06",
          "2022-12-07",
          "2022-12-08",
          "2022-12-09",
          "2022-12-10",
          "2022-12-11",
          "2022-12-12",
          "2022-12-13",
          "2022-12-14",
          "2022-12-15",
          "2022-12-16",
          "2022-12-17",
          "2022-12-18",
          "2022-12-19",
          "2022-12-20",
          "2022-12-21",
          "2022-12-22",
          "2022-12-23",
          "2022-12-24",
          "2022-12-25",
          "2022-12-26",
          "2022-12-27",
          "2022-12-28",
          "2022-12-29",
          "2022-12-30",
          "2022-12-31"
         ],
         "xaxis": "x",
         "y": {
          "bdata": "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",
          "dtype": "f8"
         },
         "yaxis": "y2"
        }
       ],
       "layout": {
        "template": {
         "data": {
          "candlestick": [
           {
            "decreasing": {
             "line": {
              "color": "#000033"
             }
            },
            "increasing": {
             "line": {
              "color": "#000032"
             }
            },
            "type": "candlestick"
           }
          ],
          "contour": [
           {
            "colorscale": [
             [
              0,
              "#000011"
             ],
             [
              0.1111111111111111,
              "#000012"
             ],
             [
              0.2222222222222222,
              "#000013"
             ],
             [
              0.3333333333333333,
              "#000014"
             ],
             [
              0.4444444444444444,
              "#000015"
             ],
             [
              0.5555555555555556,
              "#000016"
             ],
             [
              0.6666666666666666,
              "#000017"
             ],
             [
              0.7777777777777778,
              "#000018"
             ],
             [
              0.8888888888888888,
              "#000019"
             ],
             [
              1,
              "#000020"
             ]
            ],
            "type": "contour"
           }
          ],
          "contourcarpet": [
           {
            "colorscale": [
             [
              0,
              "#000011"
             ],
             [
              0.1111111111111111,
              "#000012"
             ],
             [
              0.2222222222222222,
              "#000013"
             ],
             [
              0.3333333333333333,
              "#000014"
             ],
             [
              0.4444444444444444,
              "#000015"
             ],
             [
              0.5555555555555556,
              "#000016"
             ],
             [
              0.6666666666666666,
              "#000017"
             ],
             [
              0.7777777777777778,
              "#000018"
             ],
             [
              0.8888888888888888,
              "#000019"
             ],
             [
              1,
              "#000020"
             ]
            ],
            "type": "contourcarpet"
           }
          ],
          "heatmap": [
           {
            "colorscale": [
             [
              0,
              "#000011"
             ],
             [
              0.1111111111111111,
              "#000012"
             ],
             [
              0.2222222222222222,
              "#000013"
             ],
             [
              0.3333333333333333,
              "#000014"
             ],
             [
              0.4444444444444444,
              "#000015"
             ],
             [
              0.5555555555555556,
              "#000016"
             ],
             [
              0.6666666666666666,
              "#000017"
             ],
             [
              0.7777777777777778,
              "#000018"
             ],
             [
              0.8888888888888888,
              "#000019"
             ],
             [
              1,
              "#000020"
             ]
            ],
            "type": "heatmap"
           }
          ],
          "histogram2d": [
           {
            "colorscale": [
             [
              0,
              "#000011"
             ],
             [
              0.1111111111111111,
              "#000012"
             ],
             [
              0.2222222222222222,
              "#000013"
             ],
             [
              0.3333333333333333,
              "#000014"
             ],
             [
              0.4444444444444444,
              "#000015"
             ],
             [
              0.5555555555555556,
              "#000016"
             ],
             [
              0.6666666666666666,
              "#000017"
             ],
             [
              0.7777777777777778,
              "#000018"
             ],
             [
              0.8888888888888888,
              "#000019"
             ],
             [
              1,
              "#000020"
             ]
            ],
            "type": "histogram2d"
           }
          ],
          "icicle": [
           {
            "textfont": {
             "color": "white"
            },
            "type": "icicle"
           }
          ],
          "sankey": [
           {
            "textfont": {
             "color": "#000036"
            },
            "type": "sankey"
           }
          ],
          "scatter": [
           {
            "marker": {
             "line": {
              "width": 0
             }
            },
            "type": "scatter"
           }
          ],
          "table": [
           {
            "cells": {
             "fill": {
              "color": "#000038"
             },
             "font": {
              "color": "#000037"
             },
             "line": {
              "color": "#000039"
             }
            },
            "header": {
             "fill": {
              "color": "#000040"
             },
             "font": {
              "color": "#000036"
             },
             "line": {
              "color": "#000039"
             }
            },
            "type": "table"
           }
          ],
          "waterfall": [
           {
            "connector": {
             "line": {
              "color": "#000036",
              "width": 2
             }
            },
            "decreasing": {
             "marker": {
              "color": "#000033"
             }
            },
            "increasing": {
             "marker": {
              "color": "#000032"
             }
            },
            "totals": {
             "marker": {
              "color": "#000034"
             }
            },
            "type": "waterfall"
           }
          ]
         },
         "layout": {
          "coloraxis": {
           "colorscale": [
            [
             0,
             "#000011"
            ],
            [
             0.1111111111111111,
             "#000012"
            ],
            [
             0.2222222222222222,
             "#000013"
            ],
            [
             0.3333333333333333,
             "#000014"
            ],
            [
             0.4444444444444444,
             "#000015"
            ],
            [
             0.5555555555555556,
             "#000016"
            ],
            [
             0.6666666666666666,
             "#000017"
            ],
            [
             0.7777777777777778,
             "#000018"
            ],
            [
             0.8888888888888888,
             "#000019"
            ],
            [
             1,
             "#000020"
            ]
           ]
          },
          "colorscale": {
           "diverging": [
            [
             0,
             "#000021"
            ],
            [
             0.1,
             "#000022"
            ],
            [
             0.2,
             "#000023"
            ],
            [
             0.3,
             "#000024"
            ],
            [
             0.4,
             "#000025"
            ],
            [
             0.5,
             "#000026"
            ],
            [
             0.6,
             "#000027"
            ],
            [
             0.7,
             "#000028"
            ],
            [
             0.8,
             "#000029"
            ],
            [
             0.9,
             "#000030"
            ],
            [
             1,
             "#000031"
            ]
           ],
           "sequential": [
            [
             0,
             "#000011"
            ],
            [
             0.1111111111111111,
             "#000012"
            ],
            [
             0.2222222222222222,
             "#000013"
            ],
            [
             0.3333333333333333,
             "#000014"
            ],
            [
             0.4444444444444444,
             "#000015"
            ],
            [
             0.5555555555555556,
             "#000016"
            ],
            [
             0.6666666666666666,
             "#000017"
            ],
            [
             0.7777777777777778,
             "#000018"
            ],
            [
             0.8888888888888888,
             "#000019"
            ],
            [
             1,
             "#000020"
            ]
           ],
           "sequentialminus": [
            [
             0,
             "#000011"
            ],
            [
             0.1111111111111111,
             "#000012"
            ],
            [
             0.2222222222222222,
             "#000013"
            ],
            [
             0.3333333333333333,
             "#000014"
            ],
            [
             0.4444444444444444,
             "#000015"
            ],
            [
             0.5555555555555556,
             "#000016"
            ],
            [
             0.6666666666666666,
             "#000017"
            ],
            [
             0.7777777777777778,
             "#000018"
            ],
            [
             0.8888888888888888,
             "#000019"
            ],
            [
             1,
             "#000020"
            ]
           ]
          },
          "colorway": [
           "#000001",
           "#000002",
           "#000003",
           "#000004",
           "#000005",
           "#000006",
           "#000007",
           "#000008",
           "#000009",
           "#000010"
          ]
         }
        },
        "xaxis": {
         "anchor": "y",
         "domain": [
          0,
          0.94
         ]
        },
        "yaxis": {
         "anchor": "x",
         "domain": [
          0,
          1
         ]
        },
        "yaxis2": {
         "anchor": "x",
         "overlaying": "y",
         "side": "right"
        }
       }
      },
      "image/png": "[encoded data removed]"
     },
     "metadata": {},
     "output_type": "display_data"
    }
   ],
   "source": [
    "# Line chart\n",
    "fig = make_subplots(specs = [[{\"secondary_y\": True}]])\n",
    "\n",
    "fig.add_trace(go.Scatter(x = df_daily['date'], y = df_daily['bike_rides_daily'], name = 'Daily bike rides', \n",
    " marker={'color': df_daily['bike_rides_daily'],'color': 'blue'}),secondary_y = False)\n",
    "\n",
    "fig.add_trace(go.Scatter(x=df_daily['date'], y = df_daily['avgTemp'], name = 'Daily temperature', \n",
    " marker={'color': df_daily['avgTemp'],'color': 'red'}),secondary_y=True)"
   ]
  },
  {
   "cell_type": "code",
   "execution_count": 16,
   "id": "addc2ef6-cd82-4ef9-bb60-03b77ce73a59",
   "metadata": {},
   "outputs": [],
   "source": [
    "# save the aggregated data for line chart\n",
    "\n",
    "df_daily.to_csv('aggregated_data_line_chart.csv')"
   ]
  }
 ],
 "metadata": {
  "kernelspec": {
   "display_name": "Python [conda env:venv-bike]",
   "language": "python",
   "name": "conda-env-venv-bike-py"
  },
  "language_info": {
   "codemirror_mode": {
    "name": "ipython",
    "version": 3
   },
   "file_extension": ".py",
   "mimetype": "text/x-python",
   "name": "python",
   "nbconvert_exporter": "python",
   "pygments_lexer": "ipython3",
   "version": "3.11.13"
  }
 },
 "nbformat": 4,
 "nbformat_minor": 5
}
