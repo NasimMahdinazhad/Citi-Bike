{
 "cells": [
  {
   "cell_type": "markdown",
   "id": "8e14729b-1cfd-46ba-b2cd-4b41f82a6cdb",
   "metadata": {},
   "source": [
    "## Sourcing weather data with API and mergeing multiple datasets\n"
   ]
  },
  {
   "cell_type": "code",
   "execution_count": 1,
   "id": "774c202f-0afe-45c4-a675-410041d3f4fa",
   "metadata": {},
   "outputs": [],
   "source": [
    "import pandas as pd\n",
    "import numpy as np\n",
    "import os\n",
    "import requests\n",
    "import json\n",
    "from datetime import datetime"
   ]
  },
  {
   "cell_type": "markdown",
   "id": "e513c903-4bc9-4e2e-880a-b7e9f4346e7b",
   "metadata": {},
   "source": [
    "### Import libraries & join bike trips data"
   ]
  },
  {
   "cell_type": "code",
   "execution_count": 19,
   "id": "2b0ac4f9-af70-465d-b0bc-eb044470fbeb",
   "metadata": {},
   "outputs": [],
   "source": [
    "# Create a list with all files in the folder using a list comprehension\n",
    "\n",
    "folderpath = r\"C:\\Users\\nasim\\Citi-Bike\\2022_citibike_data\" \n",
    "\n",
    "# Join many CSV files\n",
    "filepaths = [os.path.join(folderpath, name) for name in os.listdir(folderpath)]"
   ]
  },
  {
   "cell_type": "code",
   "execution_count": null,
   "id": "5106dfc3-7b37-487c-b51f-e03c28c8645a",
   "metadata": {},
   "outputs": [],
   "source": [
    "print(filepaths)"
   ]
  },
  {
   "cell_type": "code",
   "execution_count": 20,
   "id": "e950edfe-9994-4c88-848b-ef42b8c85b73",
   "metadata": {},
   "outputs": [],
   "source": [
    "# Read and Join the Data Sets\n",
    "\n",
    "df = pd.concat((pd.read_csv(f, low_memory=False) for f in filepaths), ignore_index=True)"
   ]
  },
  {
   "cell_type": "code",
   "execution_count": null,
   "id": "7e323120-939a-435d-9c1b-149fa513e82d",
   "metadata": {},
   "outputs": [],
   "source": [
    "df.head()"
   ]
  },
  {
   "cell_type": "code",
   "execution_count": null,
   "id": "736576bf-63ea-4fdc-9e11-12db726dfcce",
   "metadata": {},
   "outputs": [],
   "source": [
    "df.tail()"
   ]
  },
  {
   "cell_type": "markdown",
   "id": "8edc6bc2-7c75-4367-9917-7fb6bdbb97d0",
   "metadata": {},
   "source": [
    "The most effective way to import and join multiple CSV files, such as these datasets, is to use a combination of a generator expression and pd.concat because:\n",
    "\n",
    "1. Using a list of file paths allows you to store all CSV paths in a list (or generate them dynamically with os.listdir()), so the code can loop over them automatically.\n",
    "\n",
    "2. Reading and concatenating with a generator expression ensures that each CSV is read only once and streamed directly into pd.concat.\n",
    "\n",
    "Additionally, setting low_memory=False ensures that pandas correctly detects column types without producing warnings."
   ]
  },
  {
   "cell_type": "markdown",
   "id": "fe518a8d-c327-4fed-8ca3-aa1f593bbe79",
   "metadata": {},
   "source": [
    "### Wrangling Citi-Bike dataset"
   ]
  },
  {
   "cell_type": "code",
   "execution_count": 23,
   "id": "de779273-1d7b-4d83-8bbd-316966fd386a",
   "metadata": {},
   "outputs": [],
   "source": [
    "# Covert the time frame of df dataset to year-month-day-time\n",
    "\n",
    "df['started_at'] = pd.to_datetime(df['started_at'], format='%Y-%m-%d %H:%M:%S.%f')"
   ]
  },
  {
   "cell_type": "code",
   "execution_count": 24,
   "id": "de84c965-f5f4-4a17-bb12-baed993ff7e7",
   "metadata": {},
   "outputs": [],
   "source": [
    "# Extract only the date part (YYYY-MM-DD) from 'started_at' into a new column\n",
    "\n",
    "df['date'] = pd.to_datetime(df['started_at'], format='%Y-%m-%d').dt.date"
   ]
  },
  {
   "cell_type": "code",
   "execution_count": 25,
   "id": "e2bf9ffe-9dee-4d89-9fff-913b4e5f6801",
   "metadata": {},
   "outputs": [],
   "source": [
    "# Convert 'started_date' from string to datetime\n",
    "\n",
    "df['date'] = pd.to_datetime(df['date'])"
   ]
  },
  {
   "cell_type": "code",
   "execution_count": null,
   "id": "b6bce52a-b8cc-430d-8fee-096a3b3e7fdc",
   "metadata": {},
   "outputs": [],
   "source": [
    "df.head()"
   ]
  },
  {
   "cell_type": "markdown",
   "id": "c3c26a3f-cd94-4510-bf9b-3b3aa8935ca2",
   "metadata": {},
   "source": [
    "### Gathering Weather Data"
   ]
  },
  {
   "cell_type": "code",
   "execution_count": 30,
   "id": "8629524f-0598-4728-a760-ffb97745f1fb",
   "metadata": {},
   "outputs": [],
   "source": [
    "# Define your NOAA token\n",
    "\n",
    "Token = 'MVkdMZortXjCoeUBsoWVIQMTUBpSEfHz'"
   ]
  },
  {
   "cell_type": "code",
   "execution_count": 31,
   "id": "a77c95ca-00c8-499c-8490-ac562bcee00c",
   "metadata": {},
   "outputs": [],
   "source": [
    "# Compile URL\n",
    "\n",
    "r = requests.get('https://www.ncdc.noaa.gov/cdo-web/api/v2/data?datasetid=GHCND&datatypeid=TAVG&limit=1000&stationid=GHCND:USW00014732&startdate=2022-01-01&enddate=2022-12-31', headers={'token':Token})"
   ]
  },
  {
   "cell_type": "code",
   "execution_count": 32,
   "id": "b00353d8-0829-4256-96f3-2f395eef4939",
   "metadata": {},
   "outputs": [],
   "source": [
    "# Load the api response as a json\n",
    "\n",
    "d = json.loads(r.text)  "
   ]
  },
  {
   "cell_type": "markdown",
   "id": "9e69a28e-b6de-4a1a-a773-8fe0d9996730",
   "metadata": {},
   "source": [
    "### Wrangling Weather dataset"
   ]
  },
  {
   "cell_type": "code",
   "execution_count": 33,
   "id": "f4a078d1-707d-4d8f-8b62-44761abfdae4",
   "metadata": {},
   "outputs": [],
   "source": [
    "# Secure all items in the response that correspond to TAVG\n",
    "\n",
    "avg_temps = [item for item in d['results'] if item['datatype']=='TAVG']"
   ]
  },
  {
   "cell_type": "code",
   "execution_count": 34,
   "id": "eb29c3f2-415a-4650-ae18-3a9efc89309e",
   "metadata": {},
   "outputs": [],
   "source": [
    "# Get only the date field from all average temperature readings\n",
    "\n",
    "data_temp = [item['date'] for item in avg_temps]"
   ]
  },
  {
   "cell_type": "code",
   "execution_count": 35,
   "id": "638c9d1a-5851-4d10-86d4-9715e87da48f",
   "metadata": {},
   "outputs": [],
   "source": [
    "# Get the temperature from all average temperature readings\n",
    "\n",
    "temps = [item['value'] for item in avg_temps]"
   ]
  },
  {
   "cell_type": "code",
   "execution_count": 36,
   "id": "77f23e17-06ca-47c7-b947-13095ca30e3b",
   "metadata": {},
   "outputs": [],
   "source": [
    "# Create an empty DataFrame\n",
    "df_temp = pd.DataFrame()"
   ]
  },
  {
   "cell_type": "code",
   "execution_count": 37,
   "id": "1998e116-b106-4e25-8218-3404747e29d0",
   "metadata": {},
   "outputs": [],
   "source": [
    "# Convert the dates to datetime (removes the time component)\n",
    "\n",
    "df_temp['date'] = [datetime.strptime(d, \"%Y-%m-%dT%H:%M:%S\") for d in data_temp]"
   ]
  },
  {
   "cell_type": "code",
   "execution_count": 38,
   "id": "4b64d28a-c81f-47d6-9744-bd3ef0488c25",
   "metadata": {},
   "outputs": [],
   "source": [
    "# Convert temperature from tenths of celsius to normal celsius\n",
    "\n",
    "df_temp['avgTemp'] = [float(v)/10.0 for v in temps]"
   ]
  },
  {
   "cell_type": "code",
   "execution_count": 39,
   "id": "c1e0ff47-2e28-420f-8fef-035ccbe1ddb9",
   "metadata": {},
   "outputs": [
    {
     "data": {
      "text/html": [
       "<div>\n",
       "<style scoped>\n",
       "    .dataframe tbody tr th:only-of-type {\n",
       "        vertical-align: middle;\n",
       "    }\n",
       "\n",
       "    .dataframe tbody tr th {\n",
       "        vertical-align: top;\n",
       "    }\n",
       "\n",
       "    .dataframe thead th {\n",
       "        text-align: right;\n",
       "    }\n",
       "</style>\n",
       "<table border=\"1\" class=\"dataframe\">\n",
       "  <thead>\n",
       "    <tr style=\"text-align: right;\">\n",
       "      <th></th>\n",
       "      <th>date</th>\n",
       "      <th>avgTemp</th>\n",
       "    </tr>\n",
       "  </thead>\n",
       "  <tbody>\n",
       "    <tr>\n",
       "      <th>360</th>\n",
       "      <td>2022-12-27</td>\n",
       "      <td>-0.7</td>\n",
       "    </tr>\n",
       "    <tr>\n",
       "      <th>361</th>\n",
       "      <td>2022-12-28</td>\n",
       "      <td>3.4</td>\n",
       "    </tr>\n",
       "    <tr>\n",
       "      <th>362</th>\n",
       "      <td>2022-12-29</td>\n",
       "      <td>6.4</td>\n",
       "    </tr>\n",
       "    <tr>\n",
       "      <th>363</th>\n",
       "      <td>2022-12-30</td>\n",
       "      <td>9.3</td>\n",
       "    </tr>\n",
       "    <tr>\n",
       "      <th>364</th>\n",
       "      <td>2022-12-31</td>\n",
       "      <td>8.2</td>\n",
       "    </tr>\n",
       "  </tbody>\n",
       "</table>\n",
       "</div>"
      ],
      "text/plain": [
       "          date  avgTemp\n",
       "360 2022-12-27     -0.7\n",
       "361 2022-12-28      3.4\n",
       "362 2022-12-29      6.4\n",
       "363 2022-12-30      9.3\n",
       "364 2022-12-31      8.2"
      ]
     },
     "execution_count": 39,
     "metadata": {},
     "output_type": "execute_result"
    }
   ],
   "source": [
    "df_temp.tail()"
   ]
  },
  {
   "cell_type": "code",
   "execution_count": 40,
   "id": "7563f00e-6f2d-48b8-9d46-c9c83de499ce",
   "metadata": {},
   "outputs": [
    {
     "data": {
      "text/html": [
       "<div>\n",
       "<style scoped>\n",
       "    .dataframe tbody tr th:only-of-type {\n",
       "        vertical-align: middle;\n",
       "    }\n",
       "\n",
       "    .dataframe tbody tr th {\n",
       "        vertical-align: top;\n",
       "    }\n",
       "\n",
       "    .dataframe thead th {\n",
       "        text-align: right;\n",
       "    }\n",
       "</style>\n",
       "<table border=\"1\" class=\"dataframe\">\n",
       "  <thead>\n",
       "    <tr style=\"text-align: right;\">\n",
       "      <th></th>\n",
       "      <th>date</th>\n",
       "      <th>avgTemp</th>\n",
       "    </tr>\n",
       "  </thead>\n",
       "  <tbody>\n",
       "    <tr>\n",
       "      <th>0</th>\n",
       "      <td>2022-01-01</td>\n",
       "      <td>11.6</td>\n",
       "    </tr>\n",
       "    <tr>\n",
       "      <th>1</th>\n",
       "      <td>2022-01-02</td>\n",
       "      <td>11.4</td>\n",
       "    </tr>\n",
       "    <tr>\n",
       "      <th>2</th>\n",
       "      <td>2022-01-03</td>\n",
       "      <td>1.4</td>\n",
       "    </tr>\n",
       "    <tr>\n",
       "      <th>3</th>\n",
       "      <td>2022-01-04</td>\n",
       "      <td>-2.7</td>\n",
       "    </tr>\n",
       "    <tr>\n",
       "      <th>4</th>\n",
       "      <td>2022-01-05</td>\n",
       "      <td>3.2</td>\n",
       "    </tr>\n",
       "  </tbody>\n",
       "</table>\n",
       "</div>"
      ],
      "text/plain": [
       "        date  avgTemp\n",
       "0 2022-01-01     11.6\n",
       "1 2022-01-02     11.4\n",
       "2 2022-01-03      1.4\n",
       "3 2022-01-04     -2.7\n",
       "4 2022-01-05      3.2"
      ]
     },
     "execution_count": 40,
     "metadata": {},
     "output_type": "execute_result"
    }
   ],
   "source": [
    "df_temp.head()"
   ]
  },
  {
   "cell_type": "markdown",
   "id": "84f820ff-7990-4217-b9f3-9d23a4750806",
   "metadata": {},
   "source": [
    "### Merging two datasets"
   ]
  },
  {
   "cell_type": "code",
   "execution_count": 41,
   "id": "82323e28-3c09-4d44-920f-f2e724085b87",
   "metadata": {},
   "outputs": [],
   "source": [
    "# Merge dataframes\n",
    "\n",
    "df_merged = df.merge(df_temp, how = 'left', on = 'date', indicator = True)\n"
   ]
  },
  {
   "cell_type": "code",
   "execution_count": null,
   "id": "8d03375d-0be0-4452-8e1b-f1f3b046b7e2",
   "metadata": {},
   "outputs": [],
   "source": [
    "# Preview\n",
    "\n",
    "df_merged.head()"
   ]
  },
  {
   "cell_type": "code",
   "execution_count": 43,
   "id": "6b8674da-1610-4bd4-bf57-a4a5dcd761c3",
   "metadata": {},
   "outputs": [
    {
     "data": {
      "text/plain": [
       "_merge\n",
       "both          29838166\n",
       "left_only          640\n",
       "right_only           0\n",
       "Name: count, dtype: int64"
      ]
     },
     "execution_count": 43,
     "metadata": {},
     "output_type": "execute_result"
    }
   ],
   "source": [
    "# Checking the merge flag shows a 100 percent match rate between the two dataframes\n",
    "\n",
    "df_merged['_merge'].value_counts(dropna = False)"
   ]
  },
  {
   "cell_type": "markdown",
   "id": "732a30e6-b21c-4935-919d-60b94a1781c0",
   "metadata": {},
   "source": [
    "There are 640 observations with NA which indicates there is something wrong in the merged datset."
   ]
  },
  {
   "cell_type": "code",
   "execution_count": null,
   "id": "a7694abe-2660-4a84-9dbb-cede31d91c0a",
   "metadata": {
    "scrolled": true
   },
   "outputs": [],
   "source": [
    "# Get the 640 rows that didn't merge\n",
    "\n",
    "missing_merged = df_merged[df_merged['_merge'] == 'left_only']\n",
    "# Preview them\n",
    "missing_merged.tail()"
   ]
  },
  {
   "cell_type": "markdown",
   "id": "3a30b592-cfe4-4c2b-bafc-92e7f3a5ed97",
   "metadata": {},
   "source": [
    "The column \"avgTemp\" contains all 640 missing values. That is because of the recordings in the column 'started_at'. While the data downloaded from Kaggle is for 2022, it seems this column has some records for 2021 which are for the late time of the last night of 2021 such as 12/31/2021  11:56:05 PM started at and ended at 1/1/2022  12:10:04 AM. \n",
    "\n",
    "I decided to filter out these 640 recordings so that the starting date to be first day of 2022."
   ]
  },
  {
   "cell_type": "code",
   "execution_count": 48,
   "id": "9894e6f5-8109-4954-a124-82063e398cce",
   "metadata": {},
   "outputs": [],
   "source": [
    "# Keep only rows that matched ('both') after merge\n",
    "\n",
    "df_merged1 = df_merged[df_merged['_merge'] == 'both'].copy()"
   ]
  },
  {
   "cell_type": "code",
   "execution_count": 51,
   "id": "fa1ae480-4dc7-40a0-a679-b35282623039",
   "metadata": {},
   "outputs": [
    {
     "name": "stdout",
     "output_type": "stream",
     "text": [
      "date\n",
      "2022    29838166\n",
      "Name: count, dtype: int64\n"
     ]
    }
   ],
   "source": [
    "# Check years again\n",
    "\n",
    "print(df_merged1['date'].dt.year.value_counts())"
   ]
  },
  {
   "cell_type": "code",
   "execution_count": 52,
   "id": "2b1a9575-7654-4cdc-b3fb-d138ef85b7e3",
   "metadata": {},
   "outputs": [
    {
     "data": {
      "text/plain": [
       "_merge\n",
       "both          29838166\n",
       "left_only            0\n",
       "right_only           0\n",
       "Name: count, dtype: int64"
      ]
     },
     "execution_count": 52,
     "metadata": {},
     "output_type": "execute_result"
    }
   ],
   "source": [
    "# re-check the merged dataframe\n",
    "\n",
    "df_merged1['_merge'].value_counts(dropna = False)"
   ]
  },
  {
   "cell_type": "code",
   "execution_count": 53,
   "id": "ec687660-4be3-4899-a69c-7be792f64b48",
   "metadata": {},
   "outputs": [],
   "source": [
    "# Save the re-merged datset\n",
    "\n",
    "df_merged1.to_csv('Merged_Bike_2022_data.csv')"
   ]
  },
  {
   "cell_type": "code",
   "execution_count": null,
   "id": "7044e1e1-1b80-48e6-adf0-b7192f044280",
   "metadata": {},
   "outputs": [],
   "source": []
  }
 ],
 "metadata": {
  "kernelspec": {
   "display_name": "Python [conda env:venv-bike]",
   "language": "python",
   "name": "conda-env-venv-bike-py"
  },
  "language_info": {
   "codemirror_mode": {
    "name": "ipython",
    "version": 3
   },
   "file_extension": ".py",
   "mimetype": "text/x-python",
   "name": "python",
   "nbconvert_exporter": "python",
   "pygments_lexer": "ipython3",
   "version": "3.11.13"
  }
 },
 "nbformat": 4,
 "nbformat_minor": 5
}
